{
 "cells": [
  {
   "cell_type": "code",
   "execution_count": 6,
   "metadata": {},
   "outputs": [],
   "source": [
    "import pandas as pd\n",
    "import numpy as np\n",
    "\n",
    "# Define the range for each attribute\n",
    "attr1_range = (0, 10000)\n",
    "attr2_range = (2, 15000)\n",
    "attr3_range = (0, 50)\n",
    "attr4_range = (0, 10)\n",
    "attr5_range = (0, 15)\n",
    "attr6_range = (0, 1)\n",
    "\n",
    "\n",
    "# Create an empty list to store the data\n",
    "data = []\n",
    "\n",
    "# Generate data for each circuit and year\n",
    "for circuit in range(1, 21):\n",
    "    for year in range(1970, 2001):\n",
    "        attr1 = np.random.randint(attr1_range[0], attr1_range[1])\n",
    "        attr2 = np.random.randint(attr2_range[0], attr2_range[1])\n",
    "        attr3 = np.random.randint(attr3_range[0], attr3_range[1])\n",
    "        attr4 = np.random.randint(attr4_range[0], attr4_range[1])\n",
    "        attr5 = np.random.randint(attr5_range[0], attr5_range[1])\n",
    "        attr6 = np.random.uniform(attr6_range[0], attr6_range[1])\n",
    "\n",
    "        data.append([circuit, year, attr1, attr2, attr3, attr4, attr5, attr6])\n",
    "\n",
    "# Create a DataFrame from the data\n",
    "columns = ['circuitID',\t'year',\t'filings',\t'charges', 'acquittals', 'pleas', 'convictions', 'juryTrialRates']\n",
    "df = pd.DataFrame(data, columns=columns)\n",
    "\n",
    "# Print the first few rows of the DataFrame\n",
    "df.to_csv('../Data/CircuitJudicialData/1970_Judicial.csv', index=False)"
   ]
  },
  {
   "cell_type": "code",
   "execution_count": null,
   "metadata": {},
   "outputs": [],
   "source": []
  }
 ],
 "metadata": {
  "kernelspec": {
   "display_name": ".venv",
   "language": "python",
   "name": "python3"
  },
  "language_info": {
   "codemirror_mode": {
    "name": "ipython",
    "version": 3
   },
   "file_extension": ".py",
   "mimetype": "text/x-python",
   "name": "python",
   "nbconvert_exporter": "python",
   "pygments_lexer": "ipython3",
   "version": "3.12.2"
  }
 },
 "nbformat": 4,
 "nbformat_minor": 2
}
